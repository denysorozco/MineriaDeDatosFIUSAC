{
  "nbformat": 4,
  "nbformat_minor": 0,
  "metadata": {
    "colab": {
      "provenance": []
    },
    "kernelspec": {
      "name": "python3",
      "display_name": "Python 3"
    },
    "language_info": {
      "name": "python"
    }
  },
  "cells": [
    {
      "cell_type": "markdown",
      "source": [
        "### Universidad de San Carlos de Guatemala\n",
        "### Facultad de Ingeniería\n",
        "### Escuela de Estudios de Postgrado\n",
        "### Curso: Mineria de Datos.\n",
        "### Introducción a la Minería de Datos\n",
        "### Por: Denys Fernando Orozco Escobar"
      ],
      "metadata": {
        "id": "ihnVmSEa1ld3"
      }
    },
    {
      "cell_type": "markdown",
      "source": [
        "# **Redes Neuronales**\n",
        "\n",
        "Las redes neuronales son un tipo de modelo computacional que se inspira en el funcionamiento del cerebro humano, diseñado para aprender a partir de datos y tomar decisiones basadas en esos aprendizajes. A continuación, se presentan los aspectos más relevantes sobre las redes neuronales, su estructura, funcionamiento y aplicaciones."
      ],
      "metadata": {
        "id": "uJVKETCTYV1e"
      }
    },
    {
      "cell_type": "markdown",
      "source": [
        " En plataformas como Google Colab, los investigadores y desarrolladores pueden implementar y entrenar redes neuronales utilizando potentes bibliotecas como TensorFlow, Keras y PyTorch, aprovechando recursos computacionales avanzados como GPU y TPU para acelerar el proceso de aprendizaje."
      ],
      "metadata": {
        "id": "TpcGpD_p2FAn"
      }
    },
    {
      "cell_type": "code",
      "execution_count": 2,
      "metadata": {
        "id": "oqlXChGWIzf0"
      },
      "outputs": [],
      "source": [
        "#Ejecute las librerías\n",
        "import numpy as np\n",
        "import pandas as pd\n",
        "import tensorflow as tf\n",
        "import matplotlib.pyplot as plt\n",
        "from sklearn.model_selection import train_test_split\n",
        "from sklearn.preprocessing import StandardScaler\n",
        "from tensorflow.keras.models import Sequential\n",
        "from tensorflow.keras.layers import Dense"
      ]
    },
    {
      "cell_type": "code",
      "source": [
        "#Abre una ventana de exploración para carga de documentos .sav\n",
        "from google.colab import files\n",
        "# Subir archivos .sav\n",
        "uploaded = files.upload()"
      ],
      "metadata": {
        "id": "6rzymhLvKHzd",
        "colab": {
          "base_uri": "https://localhost:8080/",
          "height": 348
        },
        "outputId": "1c577023-8ba3-47d9-ae75-81eeeb537a45"
      },
      "execution_count": 7,
      "outputs": [
        {
          "output_type": "display_data",
          "data": {
            "text/plain": [
              "<IPython.core.display.HTML object>"
            ],
            "text/html": [
              "\n",
              "     <input type=\"file\" id=\"files-e8eaf48a-65f6-4654-bd0d-1e753efa65c6\" name=\"files[]\" multiple disabled\n",
              "        style=\"border:none\" />\n",
              "     <output id=\"result-e8eaf48a-65f6-4654-bd0d-1e753efa65c6\">\n",
              "      Upload widget is only available when the cell has been executed in the\n",
              "      current browser session. Please rerun this cell to enable.\n",
              "      </output>\n",
              "      <script>// Copyright 2017 Google LLC\n",
              "//\n",
              "// Licensed under the Apache License, Version 2.0 (the \"License\");\n",
              "// you may not use this file except in compliance with the License.\n",
              "// You may obtain a copy of the License at\n",
              "//\n",
              "//      http://www.apache.org/licenses/LICENSE-2.0\n",
              "//\n",
              "// Unless required by applicable law or agreed to in writing, software\n",
              "// distributed under the License is distributed on an \"AS IS\" BASIS,\n",
              "// WITHOUT WARRANTIES OR CONDITIONS OF ANY KIND, either express or implied.\n",
              "// See the License for the specific language governing permissions and\n",
              "// limitations under the License.\n",
              "\n",
              "/**\n",
              " * @fileoverview Helpers for google.colab Python module.\n",
              " */\n",
              "(function(scope) {\n",
              "function span(text, styleAttributes = {}) {\n",
              "  const element = document.createElement('span');\n",
              "  element.textContent = text;\n",
              "  for (const key of Object.keys(styleAttributes)) {\n",
              "    element.style[key] = styleAttributes[key];\n",
              "  }\n",
              "  return element;\n",
              "}\n",
              "\n",
              "// Max number of bytes which will be uploaded at a time.\n",
              "const MAX_PAYLOAD_SIZE = 100 * 1024;\n",
              "\n",
              "function _uploadFiles(inputId, outputId) {\n",
              "  const steps = uploadFilesStep(inputId, outputId);\n",
              "  const outputElement = document.getElementById(outputId);\n",
              "  // Cache steps on the outputElement to make it available for the next call\n",
              "  // to uploadFilesContinue from Python.\n",
              "  outputElement.steps = steps;\n",
              "\n",
              "  return _uploadFilesContinue(outputId);\n",
              "}\n",
              "\n",
              "// This is roughly an async generator (not supported in the browser yet),\n",
              "// where there are multiple asynchronous steps and the Python side is going\n",
              "// to poll for completion of each step.\n",
              "// This uses a Promise to block the python side on completion of each step,\n",
              "// then passes the result of the previous step as the input to the next step.\n",
              "function _uploadFilesContinue(outputId) {\n",
              "  const outputElement = document.getElementById(outputId);\n",
              "  const steps = outputElement.steps;\n",
              "\n",
              "  const next = steps.next(outputElement.lastPromiseValue);\n",
              "  return Promise.resolve(next.value.promise).then((value) => {\n",
              "    // Cache the last promise value to make it available to the next\n",
              "    // step of the generator.\n",
              "    outputElement.lastPromiseValue = value;\n",
              "    return next.value.response;\n",
              "  });\n",
              "}\n",
              "\n",
              "/**\n",
              " * Generator function which is called between each async step of the upload\n",
              " * process.\n",
              " * @param {string} inputId Element ID of the input file picker element.\n",
              " * @param {string} outputId Element ID of the output display.\n",
              " * @return {!Iterable<!Object>} Iterable of next steps.\n",
              " */\n",
              "function* uploadFilesStep(inputId, outputId) {\n",
              "  const inputElement = document.getElementById(inputId);\n",
              "  inputElement.disabled = false;\n",
              "\n",
              "  const outputElement = document.getElementById(outputId);\n",
              "  outputElement.innerHTML = '';\n",
              "\n",
              "  const pickedPromise = new Promise((resolve) => {\n",
              "    inputElement.addEventListener('change', (e) => {\n",
              "      resolve(e.target.files);\n",
              "    });\n",
              "  });\n",
              "\n",
              "  const cancel = document.createElement('button');\n",
              "  inputElement.parentElement.appendChild(cancel);\n",
              "  cancel.textContent = 'Cancel upload';\n",
              "  const cancelPromise = new Promise((resolve) => {\n",
              "    cancel.onclick = () => {\n",
              "      resolve(null);\n",
              "    };\n",
              "  });\n",
              "\n",
              "  // Wait for the user to pick the files.\n",
              "  const files = yield {\n",
              "    promise: Promise.race([pickedPromise, cancelPromise]),\n",
              "    response: {\n",
              "      action: 'starting',\n",
              "    }\n",
              "  };\n",
              "\n",
              "  cancel.remove();\n",
              "\n",
              "  // Disable the input element since further picks are not allowed.\n",
              "  inputElement.disabled = true;\n",
              "\n",
              "  if (!files) {\n",
              "    return {\n",
              "      response: {\n",
              "        action: 'complete',\n",
              "      }\n",
              "    };\n",
              "  }\n",
              "\n",
              "  for (const file of files) {\n",
              "    const li = document.createElement('li');\n",
              "    li.append(span(file.name, {fontWeight: 'bold'}));\n",
              "    li.append(span(\n",
              "        `(${file.type || 'n/a'}) - ${file.size} bytes, ` +\n",
              "        `last modified: ${\n",
              "            file.lastModifiedDate ? file.lastModifiedDate.toLocaleDateString() :\n",
              "                                    'n/a'} - `));\n",
              "    const percent = span('0% done');\n",
              "    li.appendChild(percent);\n",
              "\n",
              "    outputElement.appendChild(li);\n",
              "\n",
              "    const fileDataPromise = new Promise((resolve) => {\n",
              "      const reader = new FileReader();\n",
              "      reader.onload = (e) => {\n",
              "        resolve(e.target.result);\n",
              "      };\n",
              "      reader.readAsArrayBuffer(file);\n",
              "    });\n",
              "    // Wait for the data to be ready.\n",
              "    let fileData = yield {\n",
              "      promise: fileDataPromise,\n",
              "      response: {\n",
              "        action: 'continue',\n",
              "      }\n",
              "    };\n",
              "\n",
              "    // Use a chunked sending to avoid message size limits. See b/62115660.\n",
              "    let position = 0;\n",
              "    do {\n",
              "      const length = Math.min(fileData.byteLength - position, MAX_PAYLOAD_SIZE);\n",
              "      const chunk = new Uint8Array(fileData, position, length);\n",
              "      position += length;\n",
              "\n",
              "      const base64 = btoa(String.fromCharCode.apply(null, chunk));\n",
              "      yield {\n",
              "        response: {\n",
              "          action: 'append',\n",
              "          file: file.name,\n",
              "          data: base64,\n",
              "        },\n",
              "      };\n",
              "\n",
              "      let percentDone = fileData.byteLength === 0 ?\n",
              "          100 :\n",
              "          Math.round((position / fileData.byteLength) * 100);\n",
              "      percent.textContent = `${percentDone}% done`;\n",
              "\n",
              "    } while (position < fileData.byteLength);\n",
              "  }\n",
              "\n",
              "  // All done.\n",
              "  yield {\n",
              "    response: {\n",
              "      action: 'complete',\n",
              "    }\n",
              "  };\n",
              "}\n",
              "\n",
              "scope.google = scope.google || {};\n",
              "scope.google.colab = scope.google.colab || {};\n",
              "scope.google.colab._files = {\n",
              "  _uploadFiles,\n",
              "  _uploadFilesContinue,\n",
              "};\n",
              "})(self);\n",
              "</script> "
            ]
          },
          "metadata": {}
        },
        {
          "output_type": "stream",
          "name": "stdout",
          "text": [
            "Saving _D_2015.sav to _D_2015.sav\n",
            "Saving _D_2014.sav to _D_2014.sav\n",
            "Saving _D_2013.sav to _D_2013.sav\n",
            "Saving D_2021.sav to D_2021.sav\n",
            "Saving D_2020.sav to D_2020.sav\n",
            "Saving D_2019.sav to D_2019.sav\n",
            "Saving D_2018.sav to D_2018.sav\n",
            "Saving D_2017.sav to D_2017.sav\n",
            "Saving D_2016.sav to D_2016.sav\n"
          ]
        }
      ]
    },
    {
      "cell_type": "code",
      "source": [
        "!pip install pyreadstat\n",
        "import pyreadstat\n",
        "\n",
        "# Cargar archivos .sav\n",
        "datos_2013_D , meta1 = pyreadstat.read_sav(\"_D_2013.sav\")\n",
        "datos_2014_D , meta2 = pyreadstat.read_sav(\"_D_2014.sav\")\n",
        "datos_2015_D , meta3 = pyreadstat.read_sav(\"_D_2015.sav\")\n",
        "\n",
        "# Visualizar los primeros registros\n",
        "print(datos_2013_D.head())"
      ],
      "metadata": {
        "colab": {
          "base_uri": "https://localhost:8080/"
        },
        "id": "PmCLqTmsLNC6",
        "outputId": "a04fcabd-fee0-4472-8987-82f35714b240"
      },
      "execution_count": 11,
      "outputs": [
        {
          "output_type": "stream",
          "name": "stdout",
          "text": [
            "Requirement already satisfied: pyreadstat in /usr/local/lib/python3.10/dist-packages (1.2.8)\n",
            "Requirement already satisfied: pandas>=1.2.0 in /usr/local/lib/python3.10/dist-packages (from pyreadstat) (2.2.2)\n",
            "Requirement already satisfied: numpy>=1.22.4 in /usr/local/lib/python3.10/dist-packages (from pandas>=1.2.0->pyreadstat) (1.26.4)\n",
            "Requirement already satisfied: python-dateutil>=2.8.2 in /usr/local/lib/python3.10/dist-packages (from pandas>=1.2.0->pyreadstat) (2.8.2)\n",
            "Requirement already satisfied: pytz>=2020.1 in /usr/local/lib/python3.10/dist-packages (from pandas>=1.2.0->pyreadstat) (2024.2)\n",
            "Requirement already satisfied: tzdata>=2022.7 in /usr/local/lib/python3.10/dist-packages (from pandas>=1.2.0->pyreadstat) (2024.2)\n",
            "Requirement already satisfied: six>=1.5 in /usr/local/lib/python3.10/dist-packages (from python-dateutil>=2.8.2->pandas>=1.2.0->pyreadstat) (1.16.0)\n",
            "   Depreg Mupreg  Mesreg  Añoreg  Depocu Mupocu  Areag  Sexo  Diaocu  Mesocu  \\\n",
            "0    13.0   1327    10.0  2013.0    13.0   1327    2.0   1.0     4.0    10.0   \n",
            "1     1.0   0101     5.0  2013.0     1.0   0101    1.0   2.0    25.0     5.0   \n",
            "2     8.0   0801     5.0  2013.0     8.0   0801    2.0   2.0    25.0     5.0   \n",
            "3     6.0   0606     3.0  2013.0     6.0   0606    2.0   1.0    19.0     3.0   \n",
            "4     1.0   0113     4.0  2013.0     1.0   0113    2.0   2.0     7.0     4.0   \n",
            "\n",
            "   ...  Mnadif  Nacdif  Predif  Dredif  Mredif Caudef  \\\n",
            "0  ...    1327   320.0   320.0    13.0    1327   R000   \n",
            "1  ...    2001   320.0   320.0     1.0    0101   R000   \n",
            "2  ...    0801   320.0   320.0     8.0    0801   R000   \n",
            "3  ...    0602   320.0  9999.0    99.0    9999   R000   \n",
            "4  ...    0101   320.0  9999.0    99.0    9999   R011   \n",
            "\n",
            "                    caudef.descrip  Asist Ocur  Cerdef  \n",
            "0     Taquicardia, no especificada    1.0  6.0     9.0  \n",
            "1     Taquicardia, no especificada    1.0  2.0     1.0  \n",
            "2     Taquicardia, no especificada    5.0  6.0     9.0  \n",
            "3     Taquicardia, no especificada    5.0  6.0     9.0  \n",
            "4  Soplo cardíaco, no especificado    5.0  6.0     1.0  \n",
            "\n",
            "[5 rows x 28 columns]\n"
          ]
        }
      ]
    },
    {
      "source": [
        "# Concatenar filas\n",
        "datos_d= pd.concat([datos_2013_D, datos_2014_D, datos_2015_D], ignore_index=True)\n",
        "# Verificar resultado\n",
        "print(datos_d.head())"
      ],
      "cell_type": "code",
      "metadata": {
        "colab": {
          "base_uri": "https://localhost:8080/"
        },
        "id": "7ALaCoQ0v9TU",
        "outputId": "29bbaae8-b08f-4884-c2f7-ac1134f53253"
      },
      "execution_count": 17,
      "outputs": [
        {
          "output_type": "stream",
          "name": "stdout",
          "text": [
            "   Depreg Mupreg  Mesreg  Añoreg  Depocu Mupocu  Areag  Sexo  Diaocu  Mesocu  \\\n",
            "0    13.0   1327    10.0  2013.0    13.0   1327    2.0   1.0     4.0    10.0   \n",
            "1     1.0   0101     5.0  2013.0     1.0   0101    1.0   2.0    25.0     5.0   \n",
            "2     8.0   0801     5.0  2013.0     8.0   0801    2.0   2.0    25.0     5.0   \n",
            "3     6.0   0606     3.0  2013.0     6.0   0606    2.0   1.0    19.0     3.0   \n",
            "4     1.0   0113     4.0  2013.0     1.0   0113    2.0   2.0     7.0     4.0   \n",
            "\n",
            "   ...  Nacdif  Predif  Dredif  Mredif  Caudef  \\\n",
            "0  ...   320.0   320.0    13.0    1327    R000   \n",
            "1  ...   320.0   320.0     1.0    0101    R000   \n",
            "2  ...   320.0   320.0     8.0    0801    R000   \n",
            "3  ...   320.0  9999.0    99.0    9999    R000   \n",
            "4  ...   320.0  9999.0    99.0    9999    R011   \n",
            "\n",
            "                    caudef.descrip  Asist  Ocur Cerdef  Añoocu  \n",
            "0     Taquicardia, no especificada    1.0   6.0    9.0     NaN  \n",
            "1     Taquicardia, no especificada    1.0   2.0    1.0     NaN  \n",
            "2     Taquicardia, no especificada    5.0   6.0    9.0     NaN  \n",
            "3     Taquicardia, no especificada    5.0   6.0    9.0     NaN  \n",
            "4  Soplo cardíaco, no especificado    5.0   6.0    1.0     NaN  \n",
            "\n",
            "[5 rows x 29 columns]\n"
          ]
        }
      ]
    },
    {
      "cell_type": "code",
      "source": [
        "#Aleatoriedad\n",
        "datos_d = datos_d.sample(frac = 1, random_state = 42).reset_index(drop=True)"
      ],
      "metadata": {
        "id": "Il7Uk6t8TwOZ"
      },
      "execution_count": 18,
      "outputs": []
    },
    {
      "cell_type": "code",
      "source": [
        "#Selección de la data\n",
        "X = datos_d[['Cerdef','Sexo','Escodif']]\n",
        "y = datos_d['Depreg']"
      ],
      "metadata": {
        "id": "ae-j5YosUyI4"
      },
      "execution_count": 19,
      "outputs": []
    },
    {
      "source": [
        "#Datos de entrenamiento\n",
        "from sklearn.model_selection import train_test_split\n",
        "from sklearn.preprocessing import LabelEncoder\n",
        "\n",
        "X_train, X_test, y_train, y_test  = train_test_split(X, y, test_size = 0.2, random_state = 42)\n",
        "\n",
        "X_train = X_train.replace(' ', np.nan).dropna().astype('float32')\n",
        "# Inicializando LabelEncoder\n",
        "label_encoder = LabelEncoder()\n",
        "# Fit and transform y_train\n",
        "#Fit on all unique values to avoid unseen labels during transform\n",
        "all_unique_labels = pd.concat([y_train[X_train.index], y_test[X_test.index]]).unique()\n",
        "label_encoder.fit(all_unique_labels)\n",
        "y_train = label_encoder.transform(y_train[X_train.index]).astype('float32')\n",
        "\n",
        "X_test = X_test.replace(' ', np.nan).dropna().astype('float32')\n",
        "# Transform y_test using the same encoder\n",
        "y_test = label_encoder.transform(y_test[X_test.index]).astype('float32')"
      ],
      "cell_type": "code",
      "metadata": {
        "id": "pjLpdmZUy5yG"
      },
      "execution_count": 20,
      "outputs": []
    },
    {
      "cell_type": "code",
      "source": [
        "#Densidad de las capas, relu: función de activación de la capa (cambia valores negativos a positivos), introduce no linealidades\n",
        "#sigmoid salida que representa la probabilidad de pertenencia a una de las clases\n",
        "model = Sequential()\n",
        "model.add(Dense(8, input_dim = 3, activation = 'relu'))\n",
        "model.add(Dense(5, activation='relu'))\n",
        "model.add(Dense(1, activation='sigmoid'))"
      ],
      "metadata": {
        "colab": {
          "base_uri": "https://localhost:8080/"
        },
        "id": "h31HRtcTWKCH",
        "outputId": "ae5fb614-19d3-4d0a-943f-fa7d191d1aee"
      },
      "execution_count": 21,
      "outputs": [
        {
          "output_type": "stream",
          "name": "stderr",
          "text": [
            "/usr/local/lib/python3.10/dist-packages/keras/src/layers/core/dense.py:87: UserWarning: Do not pass an `input_shape`/`input_dim` argument to a layer. When using Sequential models, prefer using an `Input(shape)` object as the first layer in the model instead.\n",
            "  super().__init__(activity_regularizer=activity_regularizer, **kwargs)\n"
          ]
        }
      ]
    },
    {
      "cell_type": "code",
      "source": [
        "model.compile(loss ='binary_crossentropy', optimizer ='adam', metrics =['accuracy'])"
      ],
      "metadata": {
        "id": "Hdh9H-m5Zp0p"
      },
      "execution_count": 22,
      "outputs": []
    },
    {
      "cell_type": "code",
      "source": [
        "#Entrenamiento\n",
        "model.fit(X_train, y_train, epochs = 50, batch_size = 200, validation_data=(X_test, y_test))\n"
      ],
      "metadata": {
        "colab": {
          "base_uri": "https://localhost:8080/"
        },
        "id": "cXiK1N12Zqj0",
        "outputId": "9d0b2ac0-f655-4b1f-a619-5dd2b3b54fa7"
      },
      "execution_count": 23,
      "outputs": [
        {
          "output_type": "stream",
          "name": "stdout",
          "text": [
            "Epoch 1/50\n",
            "\u001b[1m942/942\u001b[0m \u001b[32m━━━━━━━━━━━━━━━━━━━━\u001b[0m\u001b[37m\u001b[0m \u001b[1m5s\u001b[0m 4ms/step - accuracy: 0.0742 - loss: -217.4166 - val_accuracy: 0.0114 - val_loss: -4172.7139\n",
            "Epoch 2/50\n",
            "\u001b[1m942/942\u001b[0m \u001b[32m━━━━━━━━━━━━━━━━━━━━\u001b[0m\u001b[37m\u001b[0m \u001b[1m2s\u001b[0m 2ms/step - accuracy: 0.0104 - loss: -8928.5273 - val_accuracy: 0.0114 - val_loss: -30835.2695\n",
            "Epoch 3/50\n",
            "\u001b[1m942/942\u001b[0m \u001b[32m━━━━━━━━━━━━━━━━━━━━\u001b[0m\u001b[37m\u001b[0m \u001b[1m3s\u001b[0m 2ms/step - accuracy: 0.0103 - loss: -43570.4258 - val_accuracy: 0.0114 - val_loss: -89721.5000\n",
            "Epoch 4/50\n",
            "\u001b[1m942/942\u001b[0m \u001b[32m━━━━━━━━━━━━━━━━━━━━\u001b[0m\u001b[37m\u001b[0m \u001b[1m2s\u001b[0m 2ms/step - accuracy: 0.0103 - loss: -112107.0156 - val_accuracy: 0.0114 - val_loss: -185876.5000\n",
            "Epoch 5/50\n",
            "\u001b[1m942/942\u001b[0m \u001b[32m━━━━━━━━━━━━━━━━━━━━\u001b[0m\u001b[37m\u001b[0m \u001b[1m2s\u001b[0m 2ms/step - accuracy: 0.0102 - loss: -219850.8750 - val_accuracy: 0.0114 - val_loss: -322993.0938\n",
            "Epoch 6/50\n",
            "\u001b[1m942/942\u001b[0m \u001b[32m━━━━━━━━━━━━━━━━━━━━\u001b[0m\u001b[37m\u001b[0m \u001b[1m3s\u001b[0m 3ms/step - accuracy: 0.0103 - loss: -367640.8125 - val_accuracy: 0.0114 - val_loss: -505030.1562\n",
            "Epoch 7/50\n",
            "\u001b[1m942/942\u001b[0m \u001b[32m━━━━━━━━━━━━━━━━━━━━\u001b[0m\u001b[37m\u001b[0m \u001b[1m3s\u001b[0m 3ms/step - accuracy: 0.0105 - loss: -564668.3750 - val_accuracy: 0.0114 - val_loss: -735691.1250\n",
            "Epoch 8/50\n",
            "\u001b[1m942/942\u001b[0m \u001b[32m━━━━━━━━━━━━━━━━━━━━\u001b[0m\u001b[37m\u001b[0m \u001b[1m4s\u001b[0m 2ms/step - accuracy: 0.0102 - loss: -812752.5000 - val_accuracy: 0.0114 - val_loss: -1018891.6250\n",
            "Epoch 9/50\n",
            "\u001b[1m942/942\u001b[0m \u001b[32m━━━━━━━━━━━━━━━━━━━━\u001b[0m\u001b[37m\u001b[0m \u001b[1m3s\u001b[0m 2ms/step - accuracy: 0.0108 - loss: -1108061.6250 - val_accuracy: 0.0114 - val_loss: -1359058.7500\n",
            "Epoch 10/50\n",
            "\u001b[1m942/942\u001b[0m \u001b[32m━━━━━━━━━━━━━━━━━━━━\u001b[0m\u001b[37m\u001b[0m \u001b[1m2s\u001b[0m 2ms/step - accuracy: 0.0108 - loss: -1468616.8750 - val_accuracy: 0.0114 - val_loss: -1759879.3750\n",
            "Epoch 11/50\n",
            "\u001b[1m942/942\u001b[0m \u001b[32m━━━━━━━━━━━━━━━━━━━━\u001b[0m\u001b[37m\u001b[0m \u001b[1m3s\u001b[0m 3ms/step - accuracy: 0.0101 - loss: -1902326.0000 - val_accuracy: 0.0114 - val_loss: -2224891.7500\n",
            "Epoch 12/50\n",
            "\u001b[1m942/942\u001b[0m \u001b[32m━━━━━━━━━━━━━━━━━━━━\u001b[0m\u001b[37m\u001b[0m \u001b[1m3s\u001b[0m 3ms/step - accuracy: 0.0099 - loss: -2369444.2500 - val_accuracy: 0.0114 - val_loss: -2759835.0000\n",
            "Epoch 13/50\n",
            "\u001b[1m942/942\u001b[0m \u001b[32m━━━━━━━━━━━━━━━━━━━━\u001b[0m\u001b[37m\u001b[0m \u001b[1m2s\u001b[0m 2ms/step - accuracy: 0.0101 - loss: -2931651.2500 - val_accuracy: 0.0114 - val_loss: -3367457.2500\n",
            "Epoch 14/50\n",
            "\u001b[1m942/942\u001b[0m \u001b[32m━━━━━━━━━━━━━━━━━━━━\u001b[0m\u001b[37m\u001b[0m \u001b[1m3s\u001b[0m 2ms/step - accuracy: 0.0102 - loss: -3564837.2500 - val_accuracy: 0.0114 - val_loss: -4052643.7500\n",
            "Epoch 15/50\n",
            "\u001b[1m942/942\u001b[0m \u001b[32m━━━━━━━━━━━━━━━━━━━━\u001b[0m\u001b[37m\u001b[0m \u001b[1m3s\u001b[0m 2ms/step - accuracy: 0.0104 - loss: -4269547.5000 - val_accuracy: 0.0114 - val_loss: -4817535.0000\n",
            "Epoch 16/50\n",
            "\u001b[1m942/942\u001b[0m \u001b[32m━━━━━━━━━━━━━━━━━━━━\u001b[0m\u001b[37m\u001b[0m \u001b[1m3s\u001b[0m 2ms/step - accuracy: 0.0102 - loss: -5047452.5000 - val_accuracy: 0.0114 - val_loss: -5668161.5000\n",
            "Epoch 17/50\n",
            "\u001b[1m942/942\u001b[0m \u001b[32m━━━━━━━━━━━━━━━━━━━━\u001b[0m\u001b[37m\u001b[0m \u001b[1m3s\u001b[0m 3ms/step - accuracy: 0.0106 - loss: -5959857.5000 - val_accuracy: 0.0114 - val_loss: -6605728.5000\n",
            "Epoch 18/50\n",
            "\u001b[1m942/942\u001b[0m \u001b[32m━━━━━━━━━━━━━━━━━━━━\u001b[0m\u001b[37m\u001b[0m \u001b[1m2s\u001b[0m 2ms/step - accuracy: 0.0104 - loss: -6917376.5000 - val_accuracy: 0.0114 - val_loss: -7637430.0000\n",
            "Epoch 19/50\n",
            "\u001b[1m942/942\u001b[0m \u001b[32m━━━━━━━━━━━━━━━━━━━━\u001b[0m\u001b[37m\u001b[0m \u001b[1m3s\u001b[0m 2ms/step - accuracy: 0.0104 - loss: -7999167.0000 - val_accuracy: 0.0114 - val_loss: -8765315.0000\n",
            "Epoch 20/50\n",
            "\u001b[1m942/942\u001b[0m \u001b[32m━━━━━━━━━━━━━━━━━━━━\u001b[0m\u001b[37m\u001b[0m \u001b[1m2s\u001b[0m 2ms/step - accuracy: 0.0107 - loss: -9122611.0000 - val_accuracy: 0.0114 - val_loss: -9994096.0000\n",
            "Epoch 21/50\n",
            "\u001b[1m942/942\u001b[0m \u001b[32m━━━━━━━━━━━━━━━━━━━━\u001b[0m\u001b[37m\u001b[0m \u001b[1m2s\u001b[0m 2ms/step - accuracy: 0.0101 - loss: -10407803.0000 - val_accuracy: 0.0114 - val_loss: -11326788.0000\n",
            "Epoch 22/50\n",
            "\u001b[1m942/942\u001b[0m \u001b[32m━━━━━━━━━━━━━━━━━━━━\u001b[0m\u001b[37m\u001b[0m \u001b[1m3s\u001b[0m 3ms/step - accuracy: 0.0102 - loss: -11775646.0000 - val_accuracy: 0.0114 - val_loss: -12768192.0000\n",
            "Epoch 23/50\n",
            "\u001b[1m942/942\u001b[0m \u001b[32m━━━━━━━━━━━━━━━━━━━━\u001b[0m\u001b[37m\u001b[0m \u001b[1m4s\u001b[0m 2ms/step - accuracy: 0.0107 - loss: -13236423.0000 - val_accuracy: 0.0114 - val_loss: -14321505.0000\n",
            "Epoch 24/50\n",
            "\u001b[1m942/942\u001b[0m \u001b[32m━━━━━━━━━━━━━━━━━━━━\u001b[0m\u001b[37m\u001b[0m \u001b[1m3s\u001b[0m 2ms/step - accuracy: 0.0105 - loss: -14829678.0000 - val_accuracy: 0.0114 - val_loss: -15991638.0000\n",
            "Epoch 25/50\n",
            "\u001b[1m942/942\u001b[0m \u001b[32m━━━━━━━━━━━━━━━━━━━━\u001b[0m\u001b[37m\u001b[0m \u001b[1m3s\u001b[0m 2ms/step - accuracy: 0.0105 - loss: -16551649.0000 - val_accuracy: 0.0114 - val_loss: -17781628.0000\n",
            "Epoch 26/50\n",
            "\u001b[1m942/942\u001b[0m \u001b[32m━━━━━━━━━━━━━━━━━━━━\u001b[0m\u001b[37m\u001b[0m \u001b[1m3s\u001b[0m 3ms/step - accuracy: 0.0101 - loss: -18422470.0000 - val_accuracy: 0.0114 - val_loss: -19693566.0000\n",
            "Epoch 27/50\n",
            "\u001b[1m942/942\u001b[0m \u001b[32m━━━━━━━━━━━━━━━━━━━━\u001b[0m\u001b[37m\u001b[0m \u001b[1m3s\u001b[0m 3ms/step - accuracy: 0.0101 - loss: -20401198.0000 - val_accuracy: 0.0114 - val_loss: -21734686.0000\n",
            "Epoch 28/50\n",
            "\u001b[1m942/942\u001b[0m \u001b[32m━━━━━━━━━━━━━━━━━━━━\u001b[0m\u001b[37m\u001b[0m \u001b[1m2s\u001b[0m 2ms/step - accuracy: 0.0106 - loss: -22379774.0000 - val_accuracy: 0.0114 - val_loss: -23907558.0000\n",
            "Epoch 29/50\n",
            "\u001b[1m942/942\u001b[0m \u001b[32m━━━━━━━━━━━━━━━━━━━━\u001b[0m\u001b[37m\u001b[0m \u001b[1m3s\u001b[0m 2ms/step - accuracy: 0.0102 - loss: -24686390.0000 - val_accuracy: 0.0114 - val_loss: -26213082.0000\n",
            "Epoch 30/50\n",
            "\u001b[1m942/942\u001b[0m \u001b[32m━━━━━━━━━━━━━━━━━━━━\u001b[0m\u001b[37m\u001b[0m \u001b[1m2s\u001b[0m 2ms/step - accuracy: 0.0104 - loss: -27062324.0000 - val_accuracy: 0.0114 - val_loss: -28659082.0000\n",
            "Epoch 31/50\n",
            "\u001b[1m942/942\u001b[0m \u001b[32m━━━━━━━━━━━━━━━━━━━━\u001b[0m\u001b[37m\u001b[0m \u001b[1m3s\u001b[0m 2ms/step - accuracy: 0.0104 - loss: -29514780.0000 - val_accuracy: 0.0114 - val_loss: -31249100.0000\n",
            "Epoch 32/50\n",
            "\u001b[1m942/942\u001b[0m \u001b[32m━━━━━━━━━━━━━━━━━━━━\u001b[0m\u001b[37m\u001b[0m \u001b[1m4s\u001b[0m 4ms/step - accuracy: 0.0105 - loss: -32210642.0000 - val_accuracy: 0.0114 - val_loss: -33983616.0000\n",
            "Epoch 33/50\n",
            "\u001b[1m942/942\u001b[0m \u001b[32m━━━━━━━━━━━━━━━━━━━━\u001b[0m\u001b[37m\u001b[0m \u001b[1m4s\u001b[0m 2ms/step - accuracy: 0.0102 - loss: -34903844.0000 - val_accuracy: 0.0114 - val_loss: -36869348.0000\n",
            "Epoch 34/50\n",
            "\u001b[1m942/942\u001b[0m \u001b[32m━━━━━━━━━━━━━━━━━━━━\u001b[0m\u001b[37m\u001b[0m \u001b[1m2s\u001b[0m 2ms/step - accuracy: 0.0103 - loss: -37993004.0000 - val_accuracy: 0.0114 - val_loss: -39908860.0000\n",
            "Epoch 35/50\n",
            "\u001b[1m942/942\u001b[0m \u001b[32m━━━━━━━━━━━━━━━━━━━━\u001b[0m\u001b[37m\u001b[0m \u001b[1m3s\u001b[0m 2ms/step - accuracy: 0.0105 - loss: -40867748.0000 - val_accuracy: 0.0114 - val_loss: -43109720.0000\n",
            "Epoch 36/50\n",
            "\u001b[1m942/942\u001b[0m \u001b[32m━━━━━━━━━━━━━━━━━━━━\u001b[0m\u001b[37m\u001b[0m \u001b[1m4s\u001b[0m 4ms/step - accuracy: 0.0104 - loss: -44564464.0000 - val_accuracy: 0.0114 - val_loss: -46464292.0000\n",
            "Epoch 37/50\n",
            "\u001b[1m942/942\u001b[0m \u001b[32m━━━━━━━━━━━━━━━━━━━━\u001b[0m\u001b[37m\u001b[0m \u001b[1m2s\u001b[0m 3ms/step - accuracy: 0.0103 - loss: -48200620.0000 - val_accuracy: 0.0114 - val_loss: -49985568.0000\n",
            "Epoch 38/50\n",
            "\u001b[1m942/942\u001b[0m \u001b[32m━━━━━━━━━━━━━━━━━━━━\u001b[0m\u001b[37m\u001b[0m \u001b[1m2s\u001b[0m 2ms/step - accuracy: 0.0100 - loss: -51582536.0000 - val_accuracy: 0.0114 - val_loss: -53681416.0000\n",
            "Epoch 39/50\n",
            "\u001b[1m942/942\u001b[0m \u001b[32m━━━━━━━━━━━━━━━━━━━━\u001b[0m\u001b[37m\u001b[0m \u001b[1m3s\u001b[0m 2ms/step - accuracy: 0.0100 - loss: -55279820.0000 - val_accuracy: 0.0114 - val_loss: -57549268.0000\n",
            "Epoch 40/50\n",
            "\u001b[1m942/942\u001b[0m \u001b[32m━━━━━━━━━━━━━━━━━━━━\u001b[0m\u001b[37m\u001b[0m \u001b[1m2s\u001b[0m 2ms/step - accuracy: 0.0104 - loss: -58887380.0000 - val_accuracy: 0.0114 - val_loss: -61597848.0000\n",
            "Epoch 41/50\n",
            "\u001b[1m942/942\u001b[0m \u001b[32m━━━━━━━━━━━━━━━━━━━━\u001b[0m\u001b[37m\u001b[0m \u001b[1m2s\u001b[0m 2ms/step - accuracy: 0.0103 - loss: -63508420.0000 - val_accuracy: 0.0114 - val_loss: -65818072.0000\n",
            "Epoch 42/50\n",
            "\u001b[1m942/942\u001b[0m \u001b[32m━━━━━━━━━━━━━━━━━━━━\u001b[0m\u001b[37m\u001b[0m \u001b[1m3s\u001b[0m 3ms/step - accuracy: 0.0106 - loss: -67722224.0000 - val_accuracy: 0.0114 - val_loss: -70228344.0000\n",
            "Epoch 43/50\n",
            "\u001b[1m942/942\u001b[0m \u001b[32m━━━━━━━━━━━━━━━━━━━━\u001b[0m\u001b[37m\u001b[0m \u001b[1m2s\u001b[0m 2ms/step - accuracy: 0.0106 - loss: -72133792.0000 - val_accuracy: 0.0114 - val_loss: -74829096.0000\n",
            "Epoch 44/50\n",
            "\u001b[1m942/942\u001b[0m \u001b[32m━━━━━━━━━━━━━━━━━━━━\u001b[0m\u001b[37m\u001b[0m \u001b[1m2s\u001b[0m 2ms/step - accuracy: 0.0104 - loss: -76766384.0000 - val_accuracy: 0.0114 - val_loss: -79620656.0000\n",
            "Epoch 45/50\n",
            "\u001b[1m942/942\u001b[0m \u001b[32m━━━━━━━━━━━━━━━━━━━━\u001b[0m\u001b[37m\u001b[0m \u001b[1m2s\u001b[0m 2ms/step - accuracy: 0.0101 - loss: -81772992.0000 - val_accuracy: 0.0114 - val_loss: -84605472.0000\n",
            "Epoch 46/50\n",
            "\u001b[1m942/942\u001b[0m \u001b[32m━━━━━━━━━━━━━━━━━━━━\u001b[0m\u001b[37m\u001b[0m \u001b[1m3s\u001b[0m 2ms/step - accuracy: 0.0105 - loss: -86812784.0000 - val_accuracy: 0.0114 - val_loss: -89790424.0000\n",
            "Epoch 47/50\n",
            "\u001b[1m942/942\u001b[0m \u001b[32m━━━━━━━━━━━━━━━━━━━━\u001b[0m\u001b[37m\u001b[0m \u001b[1m3s\u001b[0m 3ms/step - accuracy: 0.0101 - loss: -92145848.0000 - val_accuracy: 0.0114 - val_loss: -95177272.0000\n",
            "Epoch 48/50\n",
            "\u001b[1m942/942\u001b[0m \u001b[32m━━━━━━━━━━━━━━━━━━━━\u001b[0m\u001b[37m\u001b[0m \u001b[1m4s\u001b[0m 2ms/step - accuracy: 0.0107 - loss: -97693408.0000 - val_accuracy: 0.0114 - val_loss: -100775216.0000\n",
            "Epoch 49/50\n",
            "\u001b[1m942/942\u001b[0m \u001b[32m━━━━━━━━━━━━━━━━━━━━\u001b[0m\u001b[37m\u001b[0m \u001b[1m2s\u001b[0m 2ms/step - accuracy: 0.0102 - loss: -103088640.0000 - val_accuracy: 0.0114 - val_loss: -106581504.0000\n",
            "Epoch 50/50\n",
            "\u001b[1m942/942\u001b[0m \u001b[32m━━━━━━━━━━━━━━━━━━━━\u001b[0m\u001b[37m\u001b[0m \u001b[1m2s\u001b[0m 2ms/step - accuracy: 0.0106 - loss: -109630848.0000 - val_accuracy: 0.0114 - val_loss: -112599576.0000\n"
          ]
        },
        {
          "output_type": "execute_result",
          "data": {
            "text/plain": [
              "<keras.src.callbacks.history.History at 0x7859a91182b0>"
            ]
          },
          "metadata": {},
          "execution_count": 23
        }
      ]
    },
    {
      "cell_type": "markdown",
      "source": [
        "Probar el porcentaje de asertividad del modelo"
      ],
      "metadata": {
        "id": "GuHzGqAXbXQK"
      }
    },
    {
      "cell_type": "code",
      "source": [
        "loss, acc = model.evaluate(X_test, y_test)\n",
        "print(acc*100)"
      ],
      "metadata": {
        "id": "QXSWDOCtb1Kz",
        "colab": {
          "base_uri": "https://localhost:8080/"
        },
        "outputId": "ff021ad3-d58a-48db-bb8a-c891986e66a5"
      },
      "execution_count": 24,
      "outputs": [
        {
          "output_type": "stream",
          "name": "stdout",
          "text": [
            "\u001b[1m1471/1471\u001b[0m \u001b[32m━━━━━━━━━━━━━━━━━━━━\u001b[0m\u001b[37m\u001b[0m \u001b[1m3s\u001b[0m 2ms/step - accuracy: 0.0113 - loss: -112828960.0000\n",
            "1.13885048776865\n"
          ]
        }
      ]
    },
    {
      "cell_type": "code",
      "source": [],
      "metadata": {
        "id": "EkLjq4dAxs4k"
      },
      "execution_count": null,
      "outputs": []
    }
  ]
}